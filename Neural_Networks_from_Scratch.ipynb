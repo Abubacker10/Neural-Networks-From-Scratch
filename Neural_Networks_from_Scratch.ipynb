{
 "cells": [
  {
   "cell_type": "markdown",
   "id": "afd60668-c635-40ab-a3d4-b236b8649024",
   "metadata": {},
   "source": [
    "## Building Basic Neural Network from Scratch \n",
    "### Agenda:\n",
    "\" \n",
    "1. Creating Modelues for\n",
    "2. Layers - Dense\n",
    "3. Activation Functions - ReLu,Softmax\n",
    "4. Loss Function - Categorical_Crossentropy\n",
    "5. Derivatives - Both activation fn & loss fn\n",
    "6. Implementing Feed Forward Network\n",
    "7. forward passing\n",
    "8. Implementing Backward propagation\n",
    "9. Calculating derivatives & Gradients along Output layer -> Input layer\n",
    "10. Iterating (training) with sample data <br>\n",
    "    <br> \"\n",
    "    "
   ]
  },
  {
   "cell_type": "code",
   "execution_count": 33,
   "id": "5637170b-05c0-4ca7-a326-a5c4a01faf73",
   "metadata": {},
   "outputs": [],
   "source": [
    "#importing prerequisities\n",
    "import numpy as np\n",
    "from tensorflow.keras.datasets import mnist\n",
    "from tensorflow.keras.utils import to_categorical\n",
    "np.random.seed(3)"
   ]
  },
  {
   "cell_type": "code",
   "execution_count": 34,
   "id": "c2e66cbb-c754-4b98-9cc4-e4625142059a",
   "metadata": {},
   "outputs": [],
   "source": [
    "class Dense:\n",
    "    def __init__(self, input_shape, output_shape):\n",
    "        # Initialize weights and biases\n",
    "        self.weight = 0.1 * np.random.randn(input_shape, output_shape)\n",
    "        self.bias = np.zeros((1, output_shape))\n",
    "    \n",
    "    def forward(self, inputs):\n",
    "        self.inputs = inputs\n",
    "        self.output = np.dot(inputs, self.weight) + self.bias\n",
    "        return self.output\n",
    "    \n",
    "    def backward(self, dvalues, learning_rate):\n",
    "        self.dweights = np.dot(self.inputs.T, dvalues)\n",
    "        self.dbias = np.sum(dvalues, axis=0, keepdims=True)\n",
    "        self.dinputs = np.dot(dvalues, self.weight.T)\n",
    "        \n",
    "        self.weight -= learning_rate * self.dweights\n",
    "        self.bias -= learning_rate * self.dbias\n",
    "        return self.dinputs"
   ]
  },
  {
   "cell_type": "code",
   "execution_count": 35,
   "id": "583e5713-5190-4f57-afdd-28ab5e6f0c83",
   "metadata": {},
   "outputs": [],
   "source": [
    "class Activations:\n",
    "    def ReLU(self, x, deriv=False):\n",
    "        if deriv:\n",
    "            return np.where(x > 0, 1, 0)\n",
    "        return np.maximum(0, x)\n",
    "    \n",
    "    def Softmax(self, x):\n",
    "        exp_values = np.exp(x - np.max(x, axis=1, keepdims=True))\n",
    "        probabilities = exp_values / np.sum(exp_values, axis=1, keepdims=True)\n",
    "        return probabilities"
   ]
  },
  {
   "cell_type": "code",
   "execution_count": 85,
   "id": "9394435c-3f18-4202-817b-5175e15c3a92",
   "metadata": {},
   "outputs": [],
   "source": [
    "class Loss:\n",
    "    def categorical_crossentropy(self, y_true, y_pred):\n",
    "        y_pred_clipped = np.clip(y_pred, 1e-7, 1 - 1e-7)\n",
    "        correct_confidences = y_pred_clipped[range(len(y_true)), y_true]\n",
    "        return -np.mean(np.log(correct_confidences))\n",
    "    \n",
    "    def categorical_crossentropy_derivative(self, y_true, y_pred):\n",
    "        samples = len(y_pred)\n",
    "        y_pred[range(samples), y_true] -= 1\n",
    "        return y_pred / samples\n"
   ]
  },
  {
   "cell_type": "code",
   "execution_count": 120,
   "id": "a7431101-7622-4766-b733-7df1b61321ff",
   "metadata": {},
   "outputs": [],
   "source": [
    "class metrics:\n",
    "    def __init__ (self,y_pred,y_true):\n",
    "        self.y_pred = y_pred\n",
    "        self.y_true = y_true\n",
    "\n",
    "    def accuracy(self):\n",
    "        return np.sum(self.y_pred==self.y_true)/len(self.y_true)"
   ]
  },
  {
   "cell_type": "code",
   "execution_count": 129,
   "id": "5513adab-0e0f-491d-98fd-c76eebbde230",
   "metadata": {},
   "outputs": [],
   "source": [
    "class Model:\n",
    "    def __init__(self):\n",
    "        self.layers = []\n",
    "        self.activations = Activations()\n",
    "        self.loss = Loss()\n",
    "    \n",
    "    def add(self, layer):\n",
    "        self.layers.append(layer)\n",
    "    \n",
    "    def predict(self, X):\n",
    "        output = X\n",
    "        for layer in self.layers:\n",
    "            output = layer.forward(output)\n",
    "            if isinstance(layer, Dense):\n",
    "                output = self.activations.ReLU(output)\n",
    "        return self.activations.Softmax(output)\n",
    "    \n",
    "    def forward(self, X):\n",
    "        output = X\n",
    "        for layer in self.layers:\n",
    "            output = layer.forward(output)\n",
    "            if isinstance(layer, Dense) and layer != self.layers[-1]:\n",
    "                output = self.activations.ReLU(output)\n",
    "        return output\n",
    "    \n",
    "    def backward(self, output, y, learning_rate):\n",
    "        dvalues = self.loss.categorical_crossentropy_derivative(y, output)\n",
    "        for layer in reversed(self.layers):\n",
    "            if isinstance(layer, Dense):\n",
    "                dvalues = layer.backward(dvalues, learning_rate)\n",
    "    \n",
    "        \n",
    "    def train(self, X, y, epochs, learning_rate, batch_size):\n",
    "        for epoch in range(epochs):\n",
    "            for i in range(0, len(X), batch_size):\n",
    "                X_batch = X[i:i+batch_size]\n",
    "                y_batch = y[i:i+batch_size]\n",
    "                \n",
    "                output = self.forward(X_batch)\n",
    "                output = self.activations.Softmax(output)\n",
    "                \n",
    "                loss_value = self.loss.categorical_crossentropy(y_batch, output)\n",
    "                accuracy = metrics(np.argmax(output,axis=1),y_batch).accuracy()\n",
    "                \n",
    "                self.backward(output, y_batch, learning_rate)\n",
    "                \n",
    "                \n",
    "            \n",
    "            print(f'Epoch {epoch+1}, Loss: {loss_value}, Accuracy: {accuracy}')\n",
    "    "
   ]
  },
  {
   "cell_type": "code",
   "execution_count": 71,
   "id": "4d3175e1-9925-47be-ac5a-864f5fe70355",
   "metadata": {},
   "outputs": [],
   "source": [
    "(X_train, y_train), (X_test, y_test) = mnist.load_data()"
   ]
  },
  {
   "cell_type": "code",
   "execution_count": 72,
   "id": "a07fc7b7-9abe-45ac-b7d3-fc136c31f4ee",
   "metadata": {},
   "outputs": [],
   "source": [
    "X_train = X_train.reshape(X_train.shape[0], -1) / 255.0\n",
    "X_test = X_test.reshape(X_test.shape[0], -1) / 255.0"
   ]
  },
  {
   "cell_type": "code",
   "execution_count": 74,
   "id": "3157cc80-6195-42bc-b025-d4d9411d41e0",
   "metadata": {},
   "outputs": [],
   "source": [
    "def to_categorical(data,no_outputs):\n",
    "    one = np.zeros((data.shape[0],no_outputs))\n",
    "    one[range(data.shape[0]),data]=1\n",
    "    return one\n",
    "\n",
    "y_train = to_categorical(y_train,10)\n",
    "y_test = to_categorical(y_test,10)"
   ]
  },
  {
   "cell_type": "code",
   "execution_count": 81,
   "id": "ed350b3a-74c7-4037-b74d-be4d2c5ac4f2",
   "metadata": {},
   "outputs": [],
   "source": [
    "y_train = y_train.astype(np.int64)\n",
    "y_test = y_test.astype(np.int64)"
   ]
  },
  {
   "cell_type": "code",
   "execution_count": 131,
   "id": "08dac126-9cc6-4398-9658-14a1b3ea929e",
   "metadata": {},
   "outputs": [
    {
     "name": "stdout",
     "output_type": "stream",
     "text": [
      "Epoch 1, Loss: 0.3847935631186749, Accuracy: 0.8958333333333334\n",
      "Epoch 2, Loss: 0.3367536323215379, Accuracy: 0.9270833333333334\n",
      "Epoch 3, Loss: 0.324693104461278, Accuracy: 0.9375\n",
      "Epoch 4, Loss: 0.32018383716025706, Accuracy: 0.9375\n",
      "Epoch 5, Loss: 0.3151403970996138, Accuracy: 0.9375\n",
      "Epoch 6, Loss: 0.3090566258261393, Accuracy: 0.9479166666666666\n",
      "Epoch 7, Loss: 0.3016069361273867, Accuracy: 0.9375\n",
      "Epoch 8, Loss: 0.29937736839576107, Accuracy: 0.9479166666666666\n",
      "Epoch 9, Loss: 0.29598008413758836, Accuracy: 0.96875\n",
      "Epoch 10, Loss: 0.29390645000118426, Accuracy: 0.96875\n"
     ]
    }
   ],
   "source": [
    "model = Model()\n",
    "model.add(Dense(784, 128))\n",
    "model.add(Dense(128, 64))\n",
    "model.add(Dense(64, 10))\n",
    "\n",
    "model.train(X_train, np.argmax(y_train,axis=1), epochs=10, learning_rate=0.1, batch_size=128)"
   ]
  },
  {
   "cell_type": "code",
   "execution_count": 137,
   "id": "e324c369-d247-475a-9c29-2d67cee2a2be",
   "metadata": {},
   "outputs": [],
   "source": [
    "predictions = np.argmax(model.predict(X_test),axis=1)"
   ]
  },
  {
   "cell_type": "code",
   "execution_count": 134,
   "id": "384a4e11-9a72-4a3d-a0a4-886f5f68e3fd",
   "metadata": {},
   "outputs": [
    {
     "data": {
      "text/plain": [
       "<matplotlib.image.AxesImage at 0x2df42d13750>"
      ]
     },
     "execution_count": 134,
     "metadata": {},
     "output_type": "execute_result"
    },
    {
     "data": {
      "image/png": "[encoded data removed]",
      "text/plain": [
       "<Figure size 640x480 with 1 Axes>"
      ]
     },
     "metadata": {},
     "output_type": "display_data"
    }
   ],
   "source": [
    "import matplotlib.pyplot as plt\n",
    "plt.imshow(X_test[4].reshape(28,28))"
   ]
  },
  {
   "cell_type": "code",
   "execution_count": 138,
   "id": "345b70e1-bb18-47b3-9047-f81383b5759a",
   "metadata": {},
   "outputs": [
    {
     "data": {
      "text/plain": [
       "4"
      ]
     },
     "execution_count": 138,
     "metadata": {},
     "output_type": "execute_result"
    }
   ],
   "source": [
    "predictions[4]"
   ]
  },
  {
   "cell_type": "code",
   "execution_count": null,
   "id": "57af70ab-9821-4cdc-a23c-29a44376b970",
   "metadata": {},
   "outputs": [],
   "source": []
  }
 ],
 "metadata": {
  "kernelspec": {
   "display_name": "Python 3 (ipykernel)",
   "language": "python",
   "name": "python3"
  },
  "language_info": {
   "codemirror_mode": {
    "name": "ipython",
    "version": 3
   },
   "file_extension": ".py",
   "mimetype": "text/x-python",
   "name": "python",
   "nbconvert_exporter": "python",
   "pygments_lexer": "ipython3",
   "version": "3.11.7"
  }
 },
 "nbformat": 4,
 "nbformat_minor": 5
}
